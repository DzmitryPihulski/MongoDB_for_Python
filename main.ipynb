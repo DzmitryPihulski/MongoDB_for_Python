{
 "cells": [
  {
   "cell_type": "markdown",
   "metadata": {},
   "source": [
    "## 1. IMPORTING LIBRARIES AND SPECIFING DATA"
   ]
  },
  {
   "cell_type": "code",
   "execution_count": 2,
   "metadata": {},
   "outputs": [],
   "source": [
    "import functions_for_MongoDB as mongo\n",
    "database = 'test'\n",
    "collection = 'test'\n",
    "from test_docs import test_docs"
   ]
  },
  {
   "cell_type": "code",
   "execution_count": 2,
   "metadata": {},
   "outputs": [
    {
     "name": "stdout",
     "output_type": "stream",
     "text": [
      "'No such documents in this collection.'\n"
     ]
    }
   ],
   "source": [
    "mongo.find_docs(db = database,\n",
    "                collection = collection\n",
    "                )"
   ]
  },
  {
   "cell_type": "markdown",
   "metadata": {},
   "source": [
    "Firstly our database is empty"
   ]
  },
  {
   "cell_type": "markdown",
   "metadata": {},
   "source": [
    "## 2. INSERT SECTION"
   ]
  },
  {
   "cell_type": "markdown",
   "metadata": {},
   "source": [
    "We will insert documents from test_docs.py"
   ]
  },
  {
   "cell_type": "code",
   "execution_count": 3,
   "metadata": {},
   "outputs": [
    {
     "name": "stdout",
     "output_type": "stream",
     "text": [
      "('You seccessfully inserted many documents, documents ids: \\n'\n",
      " \" [ObjectId('6512b52fc675fb828949aed4'), \"\n",
      " \"ObjectId('6512b52fc675fb828949aed5'), ObjectId('6512b52fc675fb828949aed6')]\")\n"
     ]
    }
   ],
   "source": [
    "mongo.insert_many_docs(db = database,\n",
    "                       collection = collection,\n",
    "                       docs = test_docs\n",
    "                       )"
   ]
  },
  {
   "cell_type": "markdown",
   "metadata": {},
   "source": [
    "Everything done and we got ids of our docs<br>Let's display them:"
   ]
  },
  {
   "cell_type": "code",
   "execution_count": 4,
   "metadata": {},
   "outputs": [
    {
     "name": "stdout",
     "output_type": "stream",
     "text": [
      "{'_id': ObjectId('6512b52fc675fb828949aed4'),\n",
      " 'age': 20,\n",
      " 'country': 'Poland',\n",
      " 'name': 'Dima'}\n",
      "{'_id': ObjectId('6512b52fc675fb828949aed5'),\n",
      " 'age': 19,\n",
      " 'country': 'Turkey',\n",
      " 'name': 'Oleksandra'}\n",
      "{'_id': ObjectId('6512b52fc675fb828949aed6'),\n",
      " 'age': 25,\n",
      " 'country': 'USA',\n",
      " 'name': 'Holland'}\n"
     ]
    }
   ],
   "source": [
    "mongo.find_docs(db = database,\n",
    "                collection = collection\n",
    "                )"
   ]
  },
  {
   "cell_type": "code",
   "execution_count": 5,
   "metadata": {},
   "outputs": [
    {
     "name": "stdout",
     "output_type": "stream",
     "text": [
      "'Number of documents in test database and test collection is: 3'\n"
     ]
    }
   ],
   "source": [
    "mongo.count_docs(db = database,\n",
    "                 collection = collection\n",
    "                 )"
   ]
  },
  {
   "cell_type": "markdown",
   "metadata": {},
   "source": [
    "Finding documents by specific filter"
   ]
  },
  {
   "cell_type": "code",
   "execution_count": 6,
   "metadata": {},
   "outputs": [
    {
     "name": "stdout",
     "output_type": "stream",
     "text": [
      "{'_id': ObjectId('6512b52fc675fb828949aed4'),\n",
      " 'age': 20,\n",
      " 'country': 'Poland',\n",
      " 'name': 'Dima'}\n"
     ]
    }
   ],
   "source": [
    "mongo.find_docs(db = database,\n",
    "                collection = collection,\n",
    "                argument = \"name\",\n",
    "                value = \"Dima\"\n",
    "                )"
   ]
  },
  {
   "cell_type": "code",
   "execution_count": 7,
   "metadata": {},
   "outputs": [
    {
     "name": "stdout",
     "output_type": "stream",
     "text": [
      "{'_id': ObjectId('6512b52fc675fb828949aed4'),\n",
      " 'age': 20,\n",
      " 'country': 'Poland',\n",
      " 'name': 'Dima'}\n",
      "{'_id': ObjectId('6512b52fc675fb828949aed6'),\n",
      " 'age': 25,\n",
      " 'country': 'USA',\n",
      " 'name': 'Holland'}\n"
     ]
    }
   ],
   "source": [
    "mongo.find_docs_in_range(db = database,\n",
    "                         collection = collection,\n",
    "                         argument = \"age\",\n",
    "                         minvalue = 20,\n",
    "                         maxvalue=26\n",
    "                         )"
   ]
  },
  {
   "cell_type": "markdown",
   "metadata": {},
   "source": [
    "## 3. UPDATE SECTION"
   ]
  },
  {
   "cell_type": "code",
   "execution_count": 8,
   "metadata": {},
   "outputs": [
    {
     "name": "stdout",
     "output_type": "stream",
     "text": [
      "'Object was updated successfully!'\n"
     ]
    }
   ],
   "source": [
    "mongo.update_doc_by_id(db = database,\n",
    "                       collection = collection,\n",
    "                       id = '6512b52fc675fb828949aed6',\n",
    "                       new_values={'age': 45}\n",
    "                       )"
   ]
  },
  {
   "cell_type": "code",
   "execution_count": 9,
   "metadata": {},
   "outputs": [
    {
     "name": "stdout",
     "output_type": "stream",
     "text": [
      "{'_id': ObjectId('6512b52fc675fb828949aed6'),\n",
      " 'age': 45,\n",
      " 'country': 'USA',\n",
      " 'name': 'Holland'}\n"
     ]
    }
   ],
   "source": [
    "mongo.find_docs(db = database,\n",
    "                collection = collection,\n",
    "                argument = \"_id\",\n",
    "                value = '6512b52fc675fb828949aed6'\n",
    "                )"
   ]
  },
  {
   "cell_type": "markdown",
   "metadata": {},
   "source": [
    "We updated this record with the new age"
   ]
  },
  {
   "cell_type": "markdown",
   "metadata": {},
   "source": [
    "## 4. DELETE SECTION"
   ]
  },
  {
   "cell_type": "code",
   "execution_count": 10,
   "metadata": {},
   "outputs": [
    {
     "name": "stdout",
     "output_type": "stream",
     "text": [
      "'Object was deleted successfully!'\n"
     ]
    }
   ],
   "source": [
    "mongo.delete_doc_by_id(db = database,\n",
    "                       collection = collection,\n",
    "                       id = '6512b52fc675fb828949aed6'\n",
    "                       )"
   ]
  },
  {
   "cell_type": "code",
   "execution_count": 11,
   "metadata": {},
   "outputs": [
    {
     "name": "stdout",
     "output_type": "stream",
     "text": [
      "{'_id': ObjectId('6512b52fc675fb828949aed4'),\n",
      " 'age': 20,\n",
      " 'country': 'Poland',\n",
      " 'name': 'Dima'}\n",
      "{'_id': ObjectId('6512b52fc675fb828949aed5'),\n",
      " 'age': 19,\n",
      " 'country': 'Turkey',\n",
      " 'name': 'Oleksandra'}\n"
     ]
    }
   ],
   "source": [
    "mongo.find_docs(db = database, \n",
    "                collection = collection\n",
    "                )"
   ]
  },
  {
   "cell_type": "code",
   "execution_count": 12,
   "metadata": {},
   "outputs": [
    {
     "name": "stdout",
     "output_type": "stream",
     "text": [
      "'All object were deleted successfully!'\n"
     ]
    }
   ],
   "source": [
    "mongo.delete_all_docs(db = database,\n",
    "                      collection = collection\n",
    "                      )"
   ]
  },
  {
   "cell_type": "code",
   "execution_count": 13,
   "metadata": {},
   "outputs": [
    {
     "name": "stdout",
     "output_type": "stream",
     "text": [
      "'No such documents in this collection.'\n"
     ]
    }
   ],
   "source": [
    "mongo.find_docs(db = database,\n",
    "                collection = collection\n",
    "                )"
   ]
  }
 ],
 "metadata": {
  "kernelspec": {
   "display_name": "projectenv",
   "language": "python",
   "name": "python3"
  },
  "language_info": {
   "codemirror_mode": {
    "name": "ipython",
    "version": 3
   },
   "file_extension": ".py",
   "mimetype": "text/x-python",
   "name": "python",
   "nbconvert_exporter": "python",
   "pygments_lexer": "ipython3",
   "version": "3.11.4"
  },
  "orig_nbformat": 4
 },
 "nbformat": 4,
 "nbformat_minor": 2
}
